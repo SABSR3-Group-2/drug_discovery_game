{
 "metadata": {
  "language_info": {
   "codemirror_mode": {
    "name": "ipython",
    "version": 3
   },
   "file_extension": ".py",
   "mimetype": "text/x-python",
   "name": "python",
   "nbconvert_exporter": "python",
   "pygments_lexer": "ipython3",
   "version": "3.8.5-final"
  },
  "orig_nbformat": 2
 },
 "nbformat": 4,
 "nbformat_minor": 2,
 "cells": [
  {
   "cell_type": "code",
   "execution_count": 1,
   "metadata": {},
   "outputs": [],
   "source": [
    "from rdkit import Chem\n",
    "from rdkit.Chem import rdMolDescriptors\n",
    "from rdkit.Chem import PandasTools\n",
    "from rdkit.Chem import rdRGroupDecomposition as rdRGD\n",
    "import pandas as pd"
   ]
  },
  {
   "cell_type": "code",
   "execution_count": 2,
   "metadata": {},
   "outputs": [
    {
     "output_type": "execute_result",
     "data": {
      "text/plain": [
       "   Index     Tag Atag Btag pIC50_MMP12  \\\n",
       "0      1  A01B01  A01  B01         6.5   \n",
       "1      2  A01B02  A01  B02         6.8   \n",
       "\n",
       "                                              Smiles  A_SortMax  B_SortMax  \\\n",
       "0  OC(=O)[C@H](Cc1ccc(O)cc1)NS(=O)(=O)c2ccc(cc2)c...          7         12   \n",
       "1  OC(=O)[C@H](Cc1ccc(O)cc1)NS(=O)(=O)c2ccc(cc2)c...          7          5   \n",
       "\n",
       "  Final QC Purity Generation-No  \n",
       "0             >98         Gen-5  \n",
       "1             >98         Gen-3  "
      ],
      "text/html": "<div>\n<style scoped>\n    .dataframe tbody tr th:only-of-type {\n        vertical-align: middle;\n    }\n\n    .dataframe tbody tr th {\n        vertical-align: top;\n    }\n\n    .dataframe thead th {\n        text-align: right;\n    }\n</style>\n<table border=\"1\" class=\"dataframe\">\n  <thead>\n    <tr style=\"text-align: right;\">\n      <th></th>\n      <th>Index</th>\n      <th>Tag</th>\n      <th>Atag</th>\n      <th>Btag</th>\n      <th>pIC50_MMP12</th>\n      <th>Smiles</th>\n      <th>A_SortMax</th>\n      <th>B_SortMax</th>\n      <th>Final QC Purity</th>\n      <th>Generation-No</th>\n    </tr>\n  </thead>\n  <tbody>\n    <tr>\n      <th>0</th>\n      <td>1</td>\n      <td>A01B01</td>\n      <td>A01</td>\n      <td>B01</td>\n      <td>6.5</td>\n      <td>OC(=O)[C@H](Cc1ccc(O)cc1)NS(=O)(=O)c2ccc(cc2)c...</td>\n      <td>7</td>\n      <td>12</td>\n      <td>&gt;98</td>\n      <td>Gen-5</td>\n    </tr>\n    <tr>\n      <th>1</th>\n      <td>2</td>\n      <td>A01B02</td>\n      <td>A01</td>\n      <td>B02</td>\n      <td>6.8</td>\n      <td>OC(=O)[C@H](Cc1ccc(O)cc1)NS(=O)(=O)c2ccc(cc2)c...</td>\n      <td>7</td>\n      <td>5</td>\n      <td>&gt;98</td>\n      <td>Gen-3</td>\n    </tr>\n  </tbody>\n</table>\n</div>"
     },
     "metadata": {},
     "execution_count": 2
    }
   ],
   "source": [
    "# Read in the CSV file\n",
    "file_name = 'spreadsheet2.csv'\n",
    "data = pd.read_csv(file_name, delimiter=',')\n",
    "data.head(2)"
   ]
  },
  {
   "cell_type": "code",
   "execution_count": 3,
   "metadata": {},
   "outputs": [
    {
     "output_type": "execute_result",
     "data": {
      "text/plain": [
       "                                              Smiles  \\\n",
       "0  OC(=O)[C@H](Cc1ccc(O)cc1)NS(=O)(=O)c2ccc(cc2)c...   \n",
       "1  OC(=O)[C@H](Cc1ccc(O)cc1)NS(=O)(=O)c2ccc(cc2)c...   \n",
       "\n",
       "                                               ROMol  \n",
       "0  <img data-content=\"rdkit/molecule\" src=\"data:i...  \n",
       "1  <img data-content=\"rdkit/molecule\" src=\"data:i...  "
      ],
      "text/html": "<div>\n<style scoped>\n    .dataframe tbody tr th:only-of-type {\n        vertical-align: middle;\n    }\n\n    .dataframe tbody tr th {\n        vertical-align: top;\n    }\n\n    .dataframe thead th {\n        text-align: right;\n    }\n</style>\n<table border=\"1\" class=\"dataframe\">\n  <thead>\n    <tr style=\"text-align: right;\">\n      <th></th>\n      <th>Smiles</th>\n      <th>ROMol</th>\n    </tr>\n  </thead>\n  <tbody>\n    <tr>\n      <th>0</th>\n      <td>OC(=O)[C@H](Cc1ccc(O)cc1)NS(=O)(=O)c2ccc(cc2)c...</td>\n      <td><img data-content=\"rdkit/molecule\" src=\"data:image/png;base64,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\" alt=\"Mol\"/></td>\n    </tr>\n    <tr>\n      <th>1</th>\n      <td>OC(=O)[C@H](Cc1ccc(O)cc1)NS(=O)(=O)c2ccc(cc2)c...</td>\n      <td><img data-content=\"rdkit/molecule\" src=\"data:image/png;base64,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\" alt=\"Mol\"/></td>\n    </tr>\n  </tbody>\n</table>\n</div>"
     },
     "metadata": {},
     "execution_count": 3
    }
   ],
   "source": [
    "# Add molecule column to dataframe\n",
    "PandasTools.AddMoleculeColumnToFrame(data, smilesCol='Smiles', molCol='ROMol')\n",
    "data[['Smiles', 'ROMol']].head(n=2)"
   ]
  },
  {
   "cell_type": "code",
   "execution_count": 4,
   "metadata": {},
   "outputs": [],
   "source": [
    "# Define a class to return the r groups in a dataframe when a scaffold is given (in smiles)\n",
    "class Get_r_groups:\n",
    "    def __init__(self, smiles):\n",
    "        self.smiles = smiles\n",
    "\n",
    "    def get_r(self):\n",
    "        scaffold = Chem.MolFromSmiles(self.smiles)\n",
    "        mols = [Chem.MolFromSmiles(x) for x in data['Smiles']]\n",
    "        groups,_ = rdRGD.RGroupDecompose([scaffold], mols, asSmiles=True)\n",
    "        groups_frame = pd.DataFrame(groups)\n",
    "        return groups_frame"
   ]
  },
  {
   "cell_type": "code",
   "execution_count": 5,
   "metadata": {},
   "outputs": [],
   "source": [
    "r_groups = Get_r_groups('O=S(C1=CC=CC=C1)(NCC(O)=O)=O').get_r()"
   ]
  },
  {
   "cell_type": "code",
   "execution_count": 6,
   "metadata": {},
   "outputs": [
    {
     "output_type": "execute_result",
     "data": {
      "text/plain": [
       "                                      Core                          R1  \\\n",
       "0  O=C(O)C(NS(=O)(=O)c1ccc([*:2])cc1)[*:1]  Oc1ccc(C[*:1])cc1.[H][*:1]   \n",
       "1  O=C(O)C(NS(=O)(=O)c1ccc([*:2])cc1)[*:1]  Oc1ccc(C[*:1])cc1.[H][*:1]   \n",
       "2  O=C(O)C(NS(=O)(=O)c1ccc([*:2])cc1)[*:1]  Oc1ccc(C[*:1])cc1.[H][*:1]   \n",
       "3  O=C(O)C(NS(=O)(=O)c1ccc([*:2])cc1)[*:1]  Oc1ccc(C[*:1])cc1.[H][*:1]   \n",
       "4  O=C(O)C(NS(=O)(=O)c1ccc([*:2])cc1)[*:1]  Oc1ccc(C[*:1])cc1.[H][*:1]   \n",
       "\n",
       "                             R2  \n",
       "0               c1ccc([*:2])cc1  \n",
       "1             Brc1ccc([*:2])cc1  \n",
       "2   O=[N+]([O-])c1cccc([*:2])c1  \n",
       "3              Cc1ccc([*:2])cc1  \n",
       "4  c1ccc2c(c1)oc1c([*:2])cccc12  "
      ],
      "text/html": "<div>\n<style scoped>\n    .dataframe tbody tr th:only-of-type {\n        vertical-align: middle;\n    }\n\n    .dataframe tbody tr th {\n        vertical-align: top;\n    }\n\n    .dataframe thead th {\n        text-align: right;\n    }\n</style>\n<table border=\"1\" class=\"dataframe\">\n  <thead>\n    <tr style=\"text-align: right;\">\n      <th></th>\n      <th>Core</th>\n      <th>R1</th>\n      <th>R2</th>\n    </tr>\n  </thead>\n  <tbody>\n    <tr>\n      <th>0</th>\n      <td>O=C(O)C(NS(=O)(=O)c1ccc([*:2])cc1)[*:1]</td>\n      <td>Oc1ccc(C[*:1])cc1.[H][*:1]</td>\n      <td>c1ccc([*:2])cc1</td>\n    </tr>\n    <tr>\n      <th>1</th>\n      <td>O=C(O)C(NS(=O)(=O)c1ccc([*:2])cc1)[*:1]</td>\n      <td>Oc1ccc(C[*:1])cc1.[H][*:1]</td>\n      <td>Brc1ccc([*:2])cc1</td>\n    </tr>\n    <tr>\n      <th>2</th>\n      <td>O=C(O)C(NS(=O)(=O)c1ccc([*:2])cc1)[*:1]</td>\n      <td>Oc1ccc(C[*:1])cc1.[H][*:1]</td>\n      <td>O=[N+]([O-])c1cccc([*:2])c1</td>\n    </tr>\n    <tr>\n      <th>3</th>\n      <td>O=C(O)C(NS(=O)(=O)c1ccc([*:2])cc1)[*:1]</td>\n      <td>Oc1ccc(C[*:1])cc1.[H][*:1]</td>\n      <td>Cc1ccc([*:2])cc1</td>\n    </tr>\n    <tr>\n      <th>4</th>\n      <td>O=C(O)C(NS(=O)(=O)c1ccc([*:2])cc1)[*:1]</td>\n      <td>Oc1ccc(C[*:1])cc1.[H][*:1]</td>\n      <td>c1ccc2c(c1)oc1c([*:2])cccc12</td>\n    </tr>\n  </tbody>\n</table>\n</div>"
     },
     "metadata": {},
     "execution_count": 6
    }
   ],
   "source": [
    "r_groups.head()"
   ]
  },
  {
   "cell_type": "code",
   "execution_count": 9,
   "metadata": {},
   "outputs": [
    {
     "output_type": "stream",
     "name": "stdout",
     "text": [
      "1\n50\n50\n"
     ]
    }
   ],
   "source": [
    "# Print the number of unique smiles strings \n",
    "print(len(r_groups['Core'].unique()))\n",
    "print(len(r_groups['R1'].unique()))\n",
    "print(len(r_groups['R2'].unique()))"
   ]
  },
  {
   "cell_type": "code",
   "execution_count": 10,
   "metadata": {},
   "outputs": [],
   "source": [
    "# Save to a csv file\n",
    "r_groups.to_csv(r'r_groups.csv')"
   ]
  },
  {
   "cell_type": "code",
   "execution_count": 12,
   "metadata": {},
   "outputs": [],
   "source": [
    "# Create a new dataframe and add the Atag, Btag and pIC50 columns\n",
    "r_groups_pIC50 = r_groups.copy()\n",
    "r_groups_pIC50.head(2)\n",
    "r_groups_pIC50.insert(1, 'Atag', data['Atag'])\n",
    "r_groups_pIC50.insert(3, 'Btag', data['Btag'])\n",
    "r_groups_pIC50.insert(5, 'pIC50', data['pIC50_MMP12'])"
   ]
  },
  {
   "cell_type": "code",
   "execution_count": 13,
   "metadata": {},
   "outputs": [
    {
     "output_type": "execute_result",
     "data": {
      "text/plain": [
       "                                      Core Atag                          R1  \\\n",
       "0  O=C(O)C(NS(=O)(=O)c1ccc([*:2])cc1)[*:1]  A01  Oc1ccc(C[*:1])cc1.[H][*:1]   \n",
       "1  O=C(O)C(NS(=O)(=O)c1ccc([*:2])cc1)[*:1]  A01  Oc1ccc(C[*:1])cc1.[H][*:1]   \n",
       "2  O=C(O)C(NS(=O)(=O)c1ccc([*:2])cc1)[*:1]  A01  Oc1ccc(C[*:1])cc1.[H][*:1]   \n",
       "3  O=C(O)C(NS(=O)(=O)c1ccc([*:2])cc1)[*:1]  A01  Oc1ccc(C[*:1])cc1.[H][*:1]   \n",
       "4  O=C(O)C(NS(=O)(=O)c1ccc([*:2])cc1)[*:1]  A01  Oc1ccc(C[*:1])cc1.[H][*:1]   \n",
       "\n",
       "  Btag                            R2         pIC50  \n",
       "0  B01               c1ccc([*:2])cc1           6.5  \n",
       "1  B02             Brc1ccc([*:2])cc1           6.8  \n",
       "2  B03   O=[N+]([O-])c1cccc([*:2])c1  Assay Failed  \n",
       "3  B04              Cc1ccc([*:2])cc1           7.1  \n",
       "4  B05  c1ccc2c(c1)oc1c([*:2])cccc12           5.1  "
      ],
      "text/html": "<div>\n<style scoped>\n    .dataframe tbody tr th:only-of-type {\n        vertical-align: middle;\n    }\n\n    .dataframe tbody tr th {\n        vertical-align: top;\n    }\n\n    .dataframe thead th {\n        text-align: right;\n    }\n</style>\n<table border=\"1\" class=\"dataframe\">\n  <thead>\n    <tr style=\"text-align: right;\">\n      <th></th>\n      <th>Core</th>\n      <th>Atag</th>\n      <th>R1</th>\n      <th>Btag</th>\n      <th>R2</th>\n      <th>pIC50</th>\n    </tr>\n  </thead>\n  <tbody>\n    <tr>\n      <th>0</th>\n      <td>O=C(O)C(NS(=O)(=O)c1ccc([*:2])cc1)[*:1]</td>\n      <td>A01</td>\n      <td>Oc1ccc(C[*:1])cc1.[H][*:1]</td>\n      <td>B01</td>\n      <td>c1ccc([*:2])cc1</td>\n      <td>6.5</td>\n    </tr>\n    <tr>\n      <th>1</th>\n      <td>O=C(O)C(NS(=O)(=O)c1ccc([*:2])cc1)[*:1]</td>\n      <td>A01</td>\n      <td>Oc1ccc(C[*:1])cc1.[H][*:1]</td>\n      <td>B02</td>\n      <td>Brc1ccc([*:2])cc1</td>\n      <td>6.8</td>\n    </tr>\n    <tr>\n      <th>2</th>\n      <td>O=C(O)C(NS(=O)(=O)c1ccc([*:2])cc1)[*:1]</td>\n      <td>A01</td>\n      <td>Oc1ccc(C[*:1])cc1.[H][*:1]</td>\n      <td>B03</td>\n      <td>O=[N+]([O-])c1cccc([*:2])c1</td>\n      <td>Assay Failed</td>\n    </tr>\n    <tr>\n      <th>3</th>\n      <td>O=C(O)C(NS(=O)(=O)c1ccc([*:2])cc1)[*:1]</td>\n      <td>A01</td>\n      <td>Oc1ccc(C[*:1])cc1.[H][*:1]</td>\n      <td>B04</td>\n      <td>Cc1ccc([*:2])cc1</td>\n      <td>7.1</td>\n    </tr>\n    <tr>\n      <th>4</th>\n      <td>O=C(O)C(NS(=O)(=O)c1ccc([*:2])cc1)[*:1]</td>\n      <td>A01</td>\n      <td>Oc1ccc(C[*:1])cc1.[H][*:1]</td>\n      <td>B05</td>\n      <td>c1ccc2c(c1)oc1c([*:2])cccc12</td>\n      <td>5.1</td>\n    </tr>\n  </tbody>\n</table>\n</div>"
     },
     "metadata": {},
     "execution_count": 13
    }
   ],
   "source": [
    "r_groups_pIC50.head()"
   ]
  },
  {
   "cell_type": "code",
   "execution_count": 14,
   "metadata": {},
   "outputs": [],
   "source": [
    "# Save to a csv file\n",
    "r_groups_pIC50.to_csv(r'r_groups_pIC50')"
   ]
  },
  {
   "cell_type": "code",
   "execution_count": null,
   "metadata": {},
   "outputs": [],
   "source": []
  }
 ]
}